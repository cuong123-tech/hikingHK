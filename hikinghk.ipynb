{
 "cells": [
  {
   "cell_type": "code",
   "execution_count": 1,
   "id": "9b3e6323",
   "metadata": {},
   "outputs": [],
   "source": [
    "import numpy as np\n",
    "import pandas as pd\n",
    "import matplotlib.pyplot as plt\n",
    "import seaborn as sns"
   ]
  },
  {
   "cell_type": "code",
   "execution_count": 2,
   "id": "41504d06",
   "metadata": {},
   "outputs": [],
   "source": [
    "original_data = pd.read_csv('HKhike.csv', index_col = 0)"
   ]
  },
  {
   "cell_type": "code",
   "execution_count": 3,
   "id": "61555e4c",
   "metadata": {},
   "outputs": [],
   "source": [
    "data = original_data.copy()"
   ]
  },
  {
   "cell_type": "code",
   "execution_count": 4,
   "id": "dad53a1e",
   "metadata": {},
   "outputs": [
    {
     "data": {
      "text/html": [
       "<div>\n",
       "<style scoped>\n",
       "    .dataframe tbody tr th:only-of-type {\n",
       "        vertical-align: middle;\n",
       "    }\n",
       "\n",
       "    .dataframe tbody tr th {\n",
       "        vertical-align: top;\n",
       "    }\n",
       "\n",
       "    .dataframe thead th {\n",
       "        text-align: right;\n",
       "    }\n",
       "</style>\n",
       "<table border=\"1\" class=\"dataframe\">\n",
       "  <thead>\n",
       "    <tr style=\"text-align: right;\">\n",
       "      <th></th>\n",
       "      <th>type</th>\n",
       "      <th>length_km</th>\n",
       "      <th>duration_hour</th>\n",
       "      <th>difficulty</th>\n",
       "      <th>region</th>\n",
       "      <th>type_of_view</th>\n",
       "      <th>rating</th>\n",
       "      <th>elevation_gain</th>\n",
       "    </tr>\n",
       "    <tr>\n",
       "      <th>name</th>\n",
       "      <th></th>\n",
       "      <th></th>\n",
       "      <th></th>\n",
       "      <th></th>\n",
       "      <th></th>\n",
       "      <th></th>\n",
       "      <th></th>\n",
       "      <th></th>\n",
       "    </tr>\n",
       "  </thead>\n",
       "  <tbody>\n",
       "    <tr>\n",
       "      <th>MacLehose Trail (Section 1) Pak Tam Chung to Long Ke</th>\n",
       "      <td>Long-distance Trail</td>\n",
       "      <td>10.6</td>\n",
       "      <td>3.0</td>\n",
       "      <td>Hard</td>\n",
       "      <td>Sai Kung</td>\n",
       "      <td>beach, lake</td>\n",
       "      <td>4.5/5 (AllTrails)</td>\n",
       "      <td>1,250 ft</td>\n",
       "    </tr>\n",
       "    <tr>\n",
       "      <th>MacLehose Trail (Section 2) Long Ke to Pak Tam Au</th>\n",
       "      <td>Long-distance Trail</td>\n",
       "      <td>13.5</td>\n",
       "      <td>5.0</td>\n",
       "      <td>Hard</td>\n",
       "      <td>Sai Kung</td>\n",
       "      <td>beauty of the coast of Hong Kong, Sai Wan beac...</td>\n",
       "      <td>4.7/5 (AllTrails)</td>\n",
       "      <td>2,168 ft</td>\n",
       "    </tr>\n",
       "    <tr>\n",
       "      <th>MacLehose Trail (Section 3) Pak Tam Au to Kei Ling Ha</th>\n",
       "      <td>Long-distance Trail</td>\n",
       "      <td>10.2</td>\n",
       "      <td>4.0</td>\n",
       "      <td>Hard</td>\n",
       "      <td>Sai Kung</td>\n",
       "      <td>forests, views</td>\n",
       "      <td>4.5/5 (AllTrails)</td>\n",
       "      <td>1,994 ft</td>\n",
       "    </tr>\n",
       "    <tr>\n",
       "      <th>MacLehose Trail (Section 4) Kei Ling Ha to Tate's Cairn</th>\n",
       "      <td>Long-distance Trail</td>\n",
       "      <td>12.7</td>\n",
       "      <td>5.0</td>\n",
       "      <td>Hard</td>\n",
       "      <td>Sai Kung</td>\n",
       "      <td>views, wildflowers</td>\n",
       "      <td>4.5/5 (AllTrails)</td>\n",
       "      <td>2,805 ft</td>\n",
       "    </tr>\n",
       "    <tr>\n",
       "      <th>MacLehose Trail (Section 5) Tate's Cairn to Tai Po Road</th>\n",
       "      <td>Long-distance Trail</td>\n",
       "      <td>10.6</td>\n",
       "      <td>4.5</td>\n",
       "      <td>Hard</td>\n",
       "      <td>Central New Territories</td>\n",
       "      <td>forests and views</td>\n",
       "      <td>4.5/5 (AllTrails)</td>\n",
       "      <td>1,791 ft</td>\n",
       "    </tr>\n",
       "  </tbody>\n",
       "</table>\n",
       "</div>"
      ],
      "text/plain": [
       "                                                                   type  \\\n",
       "name                                                                      \n",
       "MacLehose Trail (Section 1) Pak Tam Chung to Lo...  Long-distance Trail   \n",
       "MacLehose Trail (Section 2) Long Ke to Pak Tam Au   Long-distance Trail   \n",
       "MacLehose Trail (Section 3) Pak Tam Au to Kei L...  Long-distance Trail   \n",
       "MacLehose Trail (Section 4) Kei Ling Ha to Tate...  Long-distance Trail   \n",
       "MacLehose Trail (Section 5) Tate's Cairn to Tai...  Long-distance Trail   \n",
       "\n",
       "                                                    length_km  duration_hour  \\\n",
       "name                                                                           \n",
       "MacLehose Trail (Section 1) Pak Tam Chung to Lo...       10.6            3.0   \n",
       "MacLehose Trail (Section 2) Long Ke to Pak Tam Au        13.5            5.0   \n",
       "MacLehose Trail (Section 3) Pak Tam Au to Kei L...       10.2            4.0   \n",
       "MacLehose Trail (Section 4) Kei Ling Ha to Tate...       12.7            5.0   \n",
       "MacLehose Trail (Section 5) Tate's Cairn to Tai...       10.6            4.5   \n",
       "\n",
       "                                                   difficulty  \\\n",
       "name                                                            \n",
       "MacLehose Trail (Section 1) Pak Tam Chung to Lo...       Hard   \n",
       "MacLehose Trail (Section 2) Long Ke to Pak Tam Au        Hard   \n",
       "MacLehose Trail (Section 3) Pak Tam Au to Kei L...       Hard   \n",
       "MacLehose Trail (Section 4) Kei Ling Ha to Tate...       Hard   \n",
       "MacLehose Trail (Section 5) Tate's Cairn to Tai...       Hard   \n",
       "\n",
       "                                                                     region  \\\n",
       "name                                                                          \n",
       "MacLehose Trail (Section 1) Pak Tam Chung to Lo...                 Sai Kung   \n",
       "MacLehose Trail (Section 2) Long Ke to Pak Tam Au                  Sai Kung   \n",
       "MacLehose Trail (Section 3) Pak Tam Au to Kei L...                 Sai Kung   \n",
       "MacLehose Trail (Section 4) Kei Ling Ha to Tate...                 Sai Kung   \n",
       "MacLehose Trail (Section 5) Tate's Cairn to Tai...  Central New Territories   \n",
       "\n",
       "                                                                                         type_of_view  \\\n",
       "name                                                                                                    \n",
       "MacLehose Trail (Section 1) Pak Tam Chung to Lo...                                        beach, lake   \n",
       "MacLehose Trail (Section 2) Long Ke to Pak Tam Au   beauty of the coast of Hong Kong, Sai Wan beac...   \n",
       "MacLehose Trail (Section 3) Pak Tam Au to Kei L...                                     forests, views   \n",
       "MacLehose Trail (Section 4) Kei Ling Ha to Tate...                                 views, wildflowers   \n",
       "MacLehose Trail (Section 5) Tate's Cairn to Tai...                                  forests and views   \n",
       "\n",
       "                                                               rating  \\\n",
       "name                                                                    \n",
       "MacLehose Trail (Section 1) Pak Tam Chung to Lo...  4.5/5 (AllTrails)   \n",
       "MacLehose Trail (Section 2) Long Ke to Pak Tam Au   4.7/5 (AllTrails)   \n",
       "MacLehose Trail (Section 3) Pak Tam Au to Kei L...  4.5/5 (AllTrails)   \n",
       "MacLehose Trail (Section 4) Kei Ling Ha to Tate...  4.5/5 (AllTrails)   \n",
       "MacLehose Trail (Section 5) Tate's Cairn to Tai...  4.5/5 (AllTrails)   \n",
       "\n",
       "                                                   elevation_gain  \n",
       "name                                                               \n",
       "MacLehose Trail (Section 1) Pak Tam Chung to Lo...       1,250 ft  \n",
       "MacLehose Trail (Section 2) Long Ke to Pak Tam Au        2,168 ft  \n",
       "MacLehose Trail (Section 3) Pak Tam Au to Kei L...       1,994 ft  \n",
       "MacLehose Trail (Section 4) Kei Ling Ha to Tate...       2,805 ft  \n",
       "MacLehose Trail (Section 5) Tate's Cairn to Tai...       1,791 ft  "
      ]
     },
     "execution_count": 4,
     "metadata": {},
     "output_type": "execute_result"
    }
   ],
   "source": [
    "data.head()"
   ]
  },
  {
   "cell_type": "code",
   "execution_count": 5,
   "id": "59ea540a",
   "metadata": {},
   "outputs": [
    {
     "data": {
      "text/plain": [
       "(89, 8)"
      ]
     },
     "execution_count": 5,
     "metadata": {},
     "output_type": "execute_result"
    }
   ],
   "source": [
    "data.shape"
   ]
  },
  {
   "cell_type": "code",
   "execution_count": 6,
   "id": "0eb4bde2",
   "metadata": {},
   "outputs": [
    {
     "name": "stdout",
     "output_type": "stream",
     "text": [
      "<class 'pandas.core.frame.DataFrame'>\n",
      "Index: 89 entries, MacLehose Trail (Section 1) Pak Tam Chung to Long Ke to Wilson Trail overall\n",
      "Data columns (total 8 columns):\n",
      " #   Column          Non-Null Count  Dtype  \n",
      "---  ------          --------------  -----  \n",
      " 0   type            89 non-null     object \n",
      " 1   length_km       76 non-null     float64\n",
      " 2   duration_hour   70 non-null     float64\n",
      " 3   difficulty      89 non-null     object \n",
      " 4   region          89 non-null     object \n",
      " 5   type_of_view    89 non-null     object \n",
      " 6   rating          68 non-null     object \n",
      " 7   elevation_gain  72 non-null     object \n",
      "dtypes: float64(2), object(6)\n",
      "memory usage: 6.3+ KB\n"
     ]
    }
   ],
   "source": [
    "data.info()"
   ]
  },
  {
   "cell_type": "code",
   "execution_count": 7,
   "id": "0ead9ad0",
   "metadata": {},
   "outputs": [
    {
     "data": {
      "text/html": [
       "<div>\n",
       "<style scoped>\n",
       "    .dataframe tbody tr th:only-of-type {\n",
       "        vertical-align: middle;\n",
       "    }\n",
       "\n",
       "    .dataframe tbody tr th {\n",
       "        vertical-align: top;\n",
       "    }\n",
       "\n",
       "    .dataframe thead th {\n",
       "        text-align: right;\n",
       "    }\n",
       "</style>\n",
       "<table border=\"1\" class=\"dataframe\">\n",
       "  <thead>\n",
       "    <tr style=\"text-align: right;\">\n",
       "      <th></th>\n",
       "      <th>length_km</th>\n",
       "      <th>duration_hour</th>\n",
       "    </tr>\n",
       "  </thead>\n",
       "  <tbody>\n",
       "    <tr>\n",
       "      <th>count</th>\n",
       "      <td>76.000000</td>\n",
       "      <td>70.000000</td>\n",
       "    </tr>\n",
       "    <tr>\n",
       "      <th>mean</th>\n",
       "      <td>9.242632</td>\n",
       "      <td>2.385429</td>\n",
       "    </tr>\n",
       "    <tr>\n",
       "      <th>std</th>\n",
       "      <td>16.468822</td>\n",
       "      <td>1.415123</td>\n",
       "    </tr>\n",
       "    <tr>\n",
       "      <th>min</th>\n",
       "      <td>0.230000</td>\n",
       "      <td>0.250000</td>\n",
       "    </tr>\n",
       "    <tr>\n",
       "      <th>25%</th>\n",
       "      <td>2.575000</td>\n",
       "      <td>1.312500</td>\n",
       "    </tr>\n",
       "    <tr>\n",
       "      <th>50%</th>\n",
       "      <td>5.500000</td>\n",
       "      <td>2.000000</td>\n",
       "    </tr>\n",
       "    <tr>\n",
       "      <th>75%</th>\n",
       "      <td>9.000000</td>\n",
       "      <td>3.000000</td>\n",
       "    </tr>\n",
       "    <tr>\n",
       "      <th>max</th>\n",
       "      <td>100.000000</td>\n",
       "      <td>6.000000</td>\n",
       "    </tr>\n",
       "  </tbody>\n",
       "</table>\n",
       "</div>"
      ],
      "text/plain": [
       "        length_km  duration_hour\n",
       "count   76.000000      70.000000\n",
       "mean     9.242632       2.385429\n",
       "std     16.468822       1.415123\n",
       "min      0.230000       0.250000\n",
       "25%      2.575000       1.312500\n",
       "50%      5.500000       2.000000\n",
       "75%      9.000000       3.000000\n",
       "max    100.000000       6.000000"
      ]
     },
     "execution_count": 7,
     "metadata": {},
     "output_type": "execute_result"
    }
   ],
   "source": [
    "data.describe()"
   ]
  },
  {
   "cell_type": "code",
   "execution_count": 8,
   "id": "4d0b4a65",
   "metadata": {},
   "outputs": [],
   "source": [
    "data['length_km'] = data['length_km'].fillna(data['length_km'].mean())\n",
    "data['duration_hour'] = data['duration_hour'].fillna(data['duration_hour'].mean())"
   ]
  },
  {
   "cell_type": "code",
   "execution_count": 9,
   "id": "653b61a9",
   "metadata": {},
   "outputs": [
    {
     "name": "stdout",
     "output_type": "stream",
     "text": [
      "<class 'pandas.core.frame.DataFrame'>\n",
      "Index: 89 entries, MacLehose Trail (Section 1) Pak Tam Chung to Long Ke to Wilson Trail overall\n",
      "Data columns (total 8 columns):\n",
      " #   Column          Non-Null Count  Dtype  \n",
      "---  ------          --------------  -----  \n",
      " 0   type            89 non-null     object \n",
      " 1   length_km       89 non-null     float64\n",
      " 2   duration_hour   89 non-null     float64\n",
      " 3   difficulty      89 non-null     object \n",
      " 4   region          89 non-null     object \n",
      " 5   type_of_view    89 non-null     object \n",
      " 6   rating          68 non-null     object \n",
      " 7   elevation_gain  72 non-null     object \n",
      "dtypes: float64(2), object(6)\n",
      "memory usage: 6.3+ KB\n"
     ]
    }
   ],
   "source": [
    "data.info()"
   ]
  },
  {
   "cell_type": "code",
   "execution_count": 10,
   "id": "8ada45be",
   "metadata": {},
   "outputs": [
    {
     "data": {
      "text/plain": [
       "count           72\n",
       "unique          71\n",
       "top       1,833 ft\n",
       "freq             2\n",
       "Name: elevation_gain, dtype: object"
      ]
     },
     "execution_count": 10,
     "metadata": {},
     "output_type": "execute_result"
    }
   ],
   "source": [
    "data['elevation_gain'].describe()"
   ]
  },
  {
   "cell_type": "code",
   "execution_count": 11,
   "id": "1e869325",
   "metadata": {},
   "outputs": [],
   "source": [
    "#Extract the numeric value, convert meters to feet if necessary\n",
    "import re #Regular expression => search for and extract patterns\n",
    "\n",
    "\n",
    "def extract_elevation(text):\n",
    "    if pd.isna(text) or not isinstance(text, str): #if text is null value or text is not string => return NaN\n",
    "        return pd.NA\n",
    "    # Match feet\n",
    "    match_ft = re.search(r'(\\d{1,3}(?:,\\d{3})*(?:\\.\\d+)?)\\s*ft', text)\n",
    "    # Search for a pattern representing elevation in feet:\n",
    "        # \\d{1,3}: Matches 1 to 3 digits(e.g, '123' or '12')\n",
    "        # (?:,\\d{3})*: Matches zero or more groups of a comma followed by 3 digits (e.g., \",000\")\n",
    "        # (?:\\.\\d+)?: Matches the decimal places, \"?\" makes it optional\n",
    "        # \\s*: Matches 0 or more white space\n",
    "        # \"ft\": Matches ft\n",
    "    if match_ft:\n",
    "        return float(match_ft.group(1).replace(',', ''))\n",
    "        # Captures the number, remoes the commas from the number string (e.g, 1,234 to 1234) and converts it to float\n",
    "\n",
    "    # Match meters\n",
    "    match_m = re.search(r'(\\d{1,3}(?:,\\d{3})*(?:\\.\\d+)?)\\s*m(?:eters)?', text)\n",
    "        # Same logic as above \n",
    "\n",
    "    if match_m:\n",
    "        return float(match_m.group(1).replace(',', '')) * 3.28084\n",
    "        # Same logic as above \n",
    "    return pd.NA\n",
    "        # If neither the feet nor meters pattern is matched, returns pd.NA to indicate no valid elevation was found.\n",
    "\n",
    "data['elevation_gain'] = data['elevation_gain'].apply(extract_elevation)"
   ]
  },
  {
   "cell_type": "code",
   "execution_count": 12,
   "id": "cdb12e10",
   "metadata": {},
   "outputs": [
    {
     "name": "stdout",
     "output_type": "stream",
     "text": [
      "<class 'pandas.core.series.Series'>\n",
      "Index: 89 entries, MacLehose Trail (Section 1) Pak Tam Chung to Long Ke to Wilson Trail overall\n",
      "Series name: elevation_gain\n",
      "Non-Null Count  Dtype \n",
      "--------------  ----- \n",
      "72 non-null     object\n",
      "dtypes: object(1)\n",
      "memory usage: 1.4+ KB\n"
     ]
    }
   ],
   "source": [
    "data['elevation_gain'].info()"
   ]
  },
  {
   "cell_type": "code",
   "execution_count": 13,
   "id": "168cd17d",
   "metadata": {},
   "outputs": [
    {
     "data": {
      "text/plain": [
       "name\n",
       "MacLehose Trail (Section 1) Pak Tam Chung to Long Ke              1250.0\n",
       "MacLehose Trail (Section 2) Long Ke to Pak Tam Au                 2168.0\n",
       "MacLehose Trail (Section 3) Pak Tam Au to Kei Ling Ha             1994.0\n",
       "MacLehose Trail (Section 4) Kei Ling Ha to Tate's Cairn           2805.0\n",
       "MacLehose Trail (Section 5) Tate's Cairn to Tai Po Road           1791.0\n",
       "                                                                  ...   \n",
       "Hong Kong Trail (Section 6) Mount Parker Road to Tai Tam Road      180.0\n",
       "MacLehose Trail overall                                          16571.0\n",
       "Hong Kong Trail overall                                           5524.0\n",
       "Lantau Trail overall                                             10036.0\n",
       "Wilson Trail overall                                             17740.0\n",
       "Name: elevation_gain, Length: 89, dtype: Float64"
      ]
     },
     "execution_count": 13,
     "metadata": {},
     "output_type": "execute_result"
    }
   ],
   "source": [
    "data['elevation_gain'] = data['elevation_gain'].astype('Float64')\n",
    "data['elevation_gain'] = data['elevation_gain'].fillna(data['elevation_gain'].mean())\n",
    "data['elevation_gain']"
   ]
  },
  {
   "cell_type": "code",
   "execution_count": 14,
   "id": "069c525d",
   "metadata": {},
   "outputs": [
    {
     "name": "stdout",
     "output_type": "stream",
     "text": [
      "<class 'pandas.core.frame.DataFrame'>\n",
      "Index: 89 entries, MacLehose Trail (Section 1) Pak Tam Chung to Long Ke to Wilson Trail overall\n",
      "Data columns (total 8 columns):\n",
      " #   Column          Non-Null Count  Dtype  \n",
      "---  ------          --------------  -----  \n",
      " 0   type            89 non-null     object \n",
      " 1   length_km       89 non-null     float64\n",
      " 2   duration_hour   89 non-null     float64\n",
      " 3   difficulty      89 non-null     object \n",
      " 4   region          89 non-null     object \n",
      " 5   type_of_view    89 non-null     object \n",
      " 6   rating          68 non-null     object \n",
      " 7   elevation_gain  89 non-null     Float64\n",
      "dtypes: Float64(1), float64(2), object(5)\n",
      "memory usage: 8.4+ KB\n"
     ]
    }
   ],
   "source": [
    "data.info()"
   ]
  },
  {
   "cell_type": "code",
   "execution_count": 15,
   "id": "c602aa00",
   "metadata": {},
   "outputs": [
    {
     "name": "stdout",
     "output_type": "stream",
     "text": [
      "<class 'pandas.core.series.Series'>\n",
      "Index: 89 entries, MacLehose Trail (Section 1) Pak Tam Chung to Long Ke to Wilson Trail overall\n",
      "Series name: rating\n",
      "Non-Null Count  Dtype \n",
      "--------------  ----- \n",
      "68 non-null     object\n",
      "dtypes: object(1)\n",
      "memory usage: 3.4+ KB\n"
     ]
    }
   ],
   "source": [
    "data['rating'].info()"
   ]
  },
  {
   "cell_type": "code",
   "execution_count": 16,
   "id": "5bfe4848",
   "metadata": {},
   "outputs": [],
   "source": [
    "#Extract the numeric value, convert meters to feet if necessary\n",
    "import re #Regular expression => search for and extract patterns\n",
    "\n",
    "\n",
    "def extract_elevation(text):\n",
    "    if pd.isna(text) or not isinstance(text, str): #if text is null value or text is not string => return NaN\n",
    "        return pd.NA\n",
    "    # Match feet\n",
    "    match_ft = re.search(r'(\\d{1,3}(?:,\\d{3})*(?:\\.\\d+)?)\\s*/5', text)\n",
    "    # Search for a pattern representing elevation in feet:\n",
    "        # \\d{1,3}: Matches 1 to 3 digits(e.g, '123' or '12')\n",
    "        # (?:,\\d{3})*: Matches zero or more groups of a comma followed by 3 digits (e.g., \",000\")\n",
    "        # (?:\\.\\d+)?: Matches the decimal places, \"?\" makes it optional\n",
    "        # \\s*: Matches 0 or more white space\n",
    "        # \"ft\": Matches ft\n",
    "    if match_ft:\n",
    "        return float(match_ft.group(1).replace(',', ''))\n",
    "        # Captures the number, remoes the commas from the number string (e.g, 1,234 to 1234) and converts it to float\n",
    "\n",
    "    \n",
    "    return pd.NA\n",
    "        # If neither the feet nor meters pattern is matched, returns pd.NA to indicate no valid elevation was found.\n",
    "\n",
    "data['rating'] = data['rating'].apply(extract_elevation)"
   ]
  },
  {
   "cell_type": "code",
   "execution_count": 17,
   "id": "18a8ff96",
   "metadata": {},
   "outputs": [
    {
     "name": "stdout",
     "output_type": "stream",
     "text": [
      "<class 'pandas.core.series.Series'>\n",
      "Index: 89 entries, MacLehose Trail (Section 1) Pak Tam Chung to Long Ke to Wilson Trail overall\n",
      "Series name: rating\n",
      "Non-Null Count  Dtype \n",
      "--------------  ----- \n",
      "65 non-null     object\n",
      "dtypes: object(1)\n",
      "memory usage: 3.4+ KB\n"
     ]
    }
   ],
   "source": [
    "data['rating'].info()"
   ]
  },
  {
   "cell_type": "code",
   "execution_count": 18,
   "id": "ca431eeb",
   "metadata": {},
   "outputs": [
    {
     "data": {
      "text/plain": [
       "name\n",
       "MacLehose Trail (Section 1) Pak Tam Chung to Long Ke                  4.5\n",
       "MacLehose Trail (Section 2) Long Ke to Pak Tam Au                     4.7\n",
       "MacLehose Trail (Section 3) Pak Tam Au to Kei Ling Ha                 4.5\n",
       "MacLehose Trail (Section 4) Kei Ling Ha to Tate's Cairn               4.5\n",
       "MacLehose Trail (Section 5) Tate's Cairn to Tai Po Road               4.5\n",
       "                                                                   ...   \n",
       "Hong Kong Trail (Section 6) Mount Parker Road to Tai Tam Road         4.4\n",
       "MacLehose Trail overall                                               4.3\n",
       "Hong Kong Trail overall                                               4.6\n",
       "Lantau Trail overall                                                  4.4\n",
       "Wilson Trail overall                                             4.270769\n",
       "Name: rating, Length: 89, dtype: Float64"
      ]
     },
     "execution_count": 18,
     "metadata": {},
     "output_type": "execute_result"
    }
   ],
   "source": [
    "data['rating'] = data['rating'].astype('Float64')\n",
    "data['rating'] = data['rating'].fillna(data['rating'].mean())\n",
    "data['rating']"
   ]
  },
  {
   "cell_type": "code",
   "execution_count": 19,
   "id": "3549b88e",
   "metadata": {},
   "outputs": [
    {
     "name": "stdout",
     "output_type": "stream",
     "text": [
      "<class 'pandas.core.frame.DataFrame'>\n",
      "Index: 89 entries, MacLehose Trail (Section 1) Pak Tam Chung to Long Ke to Wilson Trail overall\n",
      "Data columns (total 8 columns):\n",
      " #   Column          Non-Null Count  Dtype  \n",
      "---  ------          --------------  -----  \n",
      " 0   type            89 non-null     object \n",
      " 1   length_km       89 non-null     float64\n",
      " 2   duration_hour   89 non-null     float64\n",
      " 3   difficulty      89 non-null     object \n",
      " 4   region          89 non-null     object \n",
      " 5   type_of_view    89 non-null     object \n",
      " 6   rating          89 non-null     Float64\n",
      " 7   elevation_gain  89 non-null     Float64\n",
      "dtypes: Float64(2), float64(2), object(4)\n",
      "memory usage: 8.5+ KB\n"
     ]
    }
   ],
   "source": [
    "data.info()"
   ]
  },
  {
   "cell_type": "code",
   "execution_count": 20,
   "id": "66a80043",
   "metadata": {},
   "outputs": [],
   "source": [
    "data_processed = data.to_csv('data_processed.csv')"
   ]
  },
  {
   "cell_type": "code",
   "execution_count": 21,
   "id": "39e1b1d1",
   "metadata": {},
   "outputs": [
    {
     "data": {
      "text/plain": [
       "'\\nlabel/one-hot?/binary for categorical features\\nTest TF-IDF, BoW, and Word embeddings for type_of_view, evaluate with K-means using Silhouette Score, select TF-IDF if best.\\nProcess type, region (one-hot encoding), difficulty (Label Encoding), normalize with StandardScaler.\\nUse best type to test K-means, DBSCAN, GMM, Hierarchical Clustering; compare Silhouette Scores + interpretability <=> comparable table? -> explain\\nVisualize best clusters with scatter plot (PCA) and word cloud.\\nDocument: Describe experiments, comparison table, explain cluster meanings (trail recommendations).'"
      ]
     },
     "execution_count": 21,
     "metadata": {},
     "output_type": "execute_result"
    }
   ],
   "source": [
    "'''\n",
    "label/one-hot?/binary for categorical features\n",
    "Test TF-IDF, BoW, and Word embeddings for type_of_view, evaluate with K-means using Silhouette Score, select TF-IDF if best.\n",
    "Process type, region (one-hot encoding), difficulty (Label Encoding), normalize with StandardScaler.\n",
    "Use best type to test K-means, DBSCAN, GMM, Hierarchical Clustering; compare Silhouette Scores + interpretability <=> comparable table? -> explain\n",
    "Visualize best clusters with scatter plot (PCA) and word cloud.\n",
    "Document: Describe experiments, comparison table, explain cluster meanings (trail recommendations).'''"
   ]
  }
 ],
 "metadata": {
  "kernelspec": {
   "display_name": "base",
   "language": "python",
   "name": "python3"
  },
  "language_info": {
   "codemirror_mode": {
    "name": "ipython",
    "version": 3
   },
   "file_extension": ".py",
   "mimetype": "text/x-python",
   "name": "python",
   "nbconvert_exporter": "python",
   "pygments_lexer": "ipython3",
   "version": "3.13.5"
  }
 },
 "nbformat": 4,
 "nbformat_minor": 5
}
