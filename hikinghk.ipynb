{
 "cells": [
  {
   "cell_type": "code",
   "execution_count": 282,
   "id": "9b3e6323",
   "metadata": {},
   "outputs": [],
   "source": [
    "import numpy as np\n",
    "import pandas as pd\n",
    "import matplotlib.pyplot as plt\n",
    "import seaborn as sns"
   ]
  },
  {
   "cell_type": "code",
   "execution_count": 283,
   "id": "41504d06",
   "metadata": {},
   "outputs": [],
   "source": [
    "original_data = pd.read_csv('HKhike.csv')"
   ]
  },
  {
   "cell_type": "code",
   "execution_count": 284,
   "id": "61555e4c",
   "metadata": {},
   "outputs": [],
   "source": [
    "data = original_data.copy()"
   ]
  },
  {
   "cell_type": "code",
   "execution_count": 285,
   "id": "dad53a1e",
   "metadata": {},
   "outputs": [
    {
     "data": {
      "text/html": [
       "<div>\n",
       "<style scoped>\n",
       "    .dataframe tbody tr th:only-of-type {\n",
       "        vertical-align: middle;\n",
       "    }\n",
       "\n",
       "    .dataframe tbody tr th {\n",
       "        vertical-align: top;\n",
       "    }\n",
       "\n",
       "    .dataframe thead th {\n",
       "        text-align: right;\n",
       "    }\n",
       "</style>\n",
       "<table border=\"1\" class=\"dataframe\">\n",
       "  <thead>\n",
       "    <tr style=\"text-align: right;\">\n",
       "      <th></th>\n",
       "      <th>name</th>\n",
       "      <th>type</th>\n",
       "      <th>length_km</th>\n",
       "      <th>duration_hour</th>\n",
       "      <th>difficulty</th>\n",
       "      <th>region</th>\n",
       "      <th>type_of_view</th>\n",
       "      <th>rating</th>\n",
       "      <th>elevation_gain</th>\n",
       "    </tr>\n",
       "  </thead>\n",
       "  <tbody>\n",
       "    <tr>\n",
       "      <th>0</th>\n",
       "      <td>MacLehose Trail (Section 1) Pak Tam Chung to L...</td>\n",
       "      <td>Long-distance Trail</td>\n",
       "      <td>10.6</td>\n",
       "      <td>3.0</td>\n",
       "      <td>Hard</td>\n",
       "      <td>Sai Kung</td>\n",
       "      <td>beach, lake</td>\n",
       "      <td>4.5/5 (AllTrails)</td>\n",
       "      <td>1,250 ft</td>\n",
       "    </tr>\n",
       "    <tr>\n",
       "      <th>1</th>\n",
       "      <td>MacLehose Trail (Section 2) Long Ke to Pak Tam Au</td>\n",
       "      <td>Long-distance Trail</td>\n",
       "      <td>13.5</td>\n",
       "      <td>5.0</td>\n",
       "      <td>Hard</td>\n",
       "      <td>Sai Kung</td>\n",
       "      <td>beauty of the coast of Hong Kong, Sai Wan beac...</td>\n",
       "      <td>4.7/5 (AllTrails)</td>\n",
       "      <td>2,168 ft</td>\n",
       "    </tr>\n",
       "    <tr>\n",
       "      <th>2</th>\n",
       "      <td>MacLehose Trail (Section 3) Pak Tam Au to Kei ...</td>\n",
       "      <td>Long-distance Trail</td>\n",
       "      <td>10.2</td>\n",
       "      <td>4.0</td>\n",
       "      <td>Hard</td>\n",
       "      <td>Sai Kung</td>\n",
       "      <td>forests, views</td>\n",
       "      <td>4.5/5 (AllTrails)</td>\n",
       "      <td>1,994 ft</td>\n",
       "    </tr>\n",
       "    <tr>\n",
       "      <th>3</th>\n",
       "      <td>MacLehose Trail (Section 4) Kei Ling Ha to Tat...</td>\n",
       "      <td>Long-distance Trail</td>\n",
       "      <td>12.7</td>\n",
       "      <td>5.0</td>\n",
       "      <td>Hard</td>\n",
       "      <td>Sai Kung</td>\n",
       "      <td>views, wildflowers</td>\n",
       "      <td>4.5/5 (AllTrails)</td>\n",
       "      <td>2,805 ft</td>\n",
       "    </tr>\n",
       "    <tr>\n",
       "      <th>4</th>\n",
       "      <td>MacLehose Trail (Section 5) Tate's Cairn to Ta...</td>\n",
       "      <td>Long-distance Trail</td>\n",
       "      <td>10.6</td>\n",
       "      <td>4.5</td>\n",
       "      <td>Hard</td>\n",
       "      <td>Central New Territories</td>\n",
       "      <td>forests and views</td>\n",
       "      <td>4.5/5 (AllTrails)</td>\n",
       "      <td>1,791 ft</td>\n",
       "    </tr>\n",
       "  </tbody>\n",
       "</table>\n",
       "</div>"
      ],
      "text/plain": [
       "                                                name                 type  \\\n",
       "0  MacLehose Trail (Section 1) Pak Tam Chung to L...  Long-distance Trail   \n",
       "1  MacLehose Trail (Section 2) Long Ke to Pak Tam Au  Long-distance Trail   \n",
       "2  MacLehose Trail (Section 3) Pak Tam Au to Kei ...  Long-distance Trail   \n",
       "3  MacLehose Trail (Section 4) Kei Ling Ha to Tat...  Long-distance Trail   \n",
       "4  MacLehose Trail (Section 5) Tate's Cairn to Ta...  Long-distance Trail   \n",
       "\n",
       "   length_km  duration_hour difficulty                   region  \\\n",
       "0       10.6            3.0       Hard                 Sai Kung   \n",
       "1       13.5            5.0       Hard                 Sai Kung   \n",
       "2       10.2            4.0       Hard                 Sai Kung   \n",
       "3       12.7            5.0       Hard                 Sai Kung   \n",
       "4       10.6            4.5       Hard  Central New Territories   \n",
       "\n",
       "                                        type_of_view             rating  \\\n",
       "0                                        beach, lake  4.5/5 (AllTrails)   \n",
       "1  beauty of the coast of Hong Kong, Sai Wan beac...  4.7/5 (AllTrails)   \n",
       "2                                     forests, views  4.5/5 (AllTrails)   \n",
       "3                                 views, wildflowers  4.5/5 (AllTrails)   \n",
       "4                                  forests and views  4.5/5 (AllTrails)   \n",
       "\n",
       "  elevation_gain  \n",
       "0       1,250 ft  \n",
       "1       2,168 ft  \n",
       "2       1,994 ft  \n",
       "3       2,805 ft  \n",
       "4       1,791 ft  "
      ]
     },
     "execution_count": 285,
     "metadata": {},
     "output_type": "execute_result"
    }
   ],
   "source": [
    "data.head()"
   ]
  },
  {
   "cell_type": "code",
   "execution_count": 286,
   "id": "59ea540a",
   "metadata": {},
   "outputs": [
    {
     "data": {
      "text/plain": [
       "(89, 9)"
      ]
     },
     "execution_count": 286,
     "metadata": {},
     "output_type": "execute_result"
    }
   ],
   "source": [
    "data.shape"
   ]
  },
  {
   "cell_type": "code",
   "execution_count": 287,
   "id": "0eb4bde2",
   "metadata": {},
   "outputs": [
    {
     "name": "stdout",
     "output_type": "stream",
     "text": [
      "<class 'pandas.core.frame.DataFrame'>\n",
      "RangeIndex: 89 entries, 0 to 88\n",
      "Data columns (total 9 columns):\n",
      " #   Column          Non-Null Count  Dtype  \n",
      "---  ------          --------------  -----  \n",
      " 0   name            89 non-null     object \n",
      " 1   type            89 non-null     object \n",
      " 2   length_km       76 non-null     float64\n",
      " 3   duration_hour   70 non-null     float64\n",
      " 4   difficulty      89 non-null     object \n",
      " 5   region          89 non-null     object \n",
      " 6   type_of_view    89 non-null     object \n",
      " 7   rating          68 non-null     object \n",
      " 8   elevation_gain  72 non-null     object \n",
      "dtypes: float64(2), object(7)\n",
      "memory usage: 6.4+ KB\n"
     ]
    }
   ],
   "source": [
    "data.info()"
   ]
  },
  {
   "cell_type": "code",
   "execution_count": 288,
   "id": "0ead9ad0",
   "metadata": {},
   "outputs": [
    {
     "data": {
      "text/html": [
       "<div>\n",
       "<style scoped>\n",
       "    .dataframe tbody tr th:only-of-type {\n",
       "        vertical-align: middle;\n",
       "    }\n",
       "\n",
       "    .dataframe tbody tr th {\n",
       "        vertical-align: top;\n",
       "    }\n",
       "\n",
       "    .dataframe thead th {\n",
       "        text-align: right;\n",
       "    }\n",
       "</style>\n",
       "<table border=\"1\" class=\"dataframe\">\n",
       "  <thead>\n",
       "    <tr style=\"text-align: right;\">\n",
       "      <th></th>\n",
       "      <th>length_km</th>\n",
       "      <th>duration_hour</th>\n",
       "    </tr>\n",
       "  </thead>\n",
       "  <tbody>\n",
       "    <tr>\n",
       "      <th>count</th>\n",
       "      <td>76.000000</td>\n",
       "      <td>70.000000</td>\n",
       "    </tr>\n",
       "    <tr>\n",
       "      <th>mean</th>\n",
       "      <td>9.242632</td>\n",
       "      <td>2.385429</td>\n",
       "    </tr>\n",
       "    <tr>\n",
       "      <th>std</th>\n",
       "      <td>16.468822</td>\n",
       "      <td>1.415123</td>\n",
       "    </tr>\n",
       "    <tr>\n",
       "      <th>min</th>\n",
       "      <td>0.230000</td>\n",
       "      <td>0.250000</td>\n",
       "    </tr>\n",
       "    <tr>\n",
       "      <th>25%</th>\n",
       "      <td>2.575000</td>\n",
       "      <td>1.312500</td>\n",
       "    </tr>\n",
       "    <tr>\n",
       "      <th>50%</th>\n",
       "      <td>5.500000</td>\n",
       "      <td>2.000000</td>\n",
       "    </tr>\n",
       "    <tr>\n",
       "      <th>75%</th>\n",
       "      <td>9.000000</td>\n",
       "      <td>3.000000</td>\n",
       "    </tr>\n",
       "    <tr>\n",
       "      <th>max</th>\n",
       "      <td>100.000000</td>\n",
       "      <td>6.000000</td>\n",
       "    </tr>\n",
       "  </tbody>\n",
       "</table>\n",
       "</div>"
      ],
      "text/plain": [
       "        length_km  duration_hour\n",
       "count   76.000000      70.000000\n",
       "mean     9.242632       2.385429\n",
       "std     16.468822       1.415123\n",
       "min      0.230000       0.250000\n",
       "25%      2.575000       1.312500\n",
       "50%      5.500000       2.000000\n",
       "75%      9.000000       3.000000\n",
       "max    100.000000       6.000000"
      ]
     },
     "execution_count": 288,
     "metadata": {},
     "output_type": "execute_result"
    }
   ],
   "source": [
    "data.describe()"
   ]
  },
  {
   "cell_type": "code",
   "execution_count": 289,
   "id": "4d0b4a65",
   "metadata": {},
   "outputs": [],
   "source": [
    "data['length_km'] = data['length_km'].fillna(data['length_km'].mean())\n",
    "data['duration_hour'] = data['duration_hour'].fillna(data['duration_hour'].mean())"
   ]
  },
  {
   "cell_type": "code",
   "execution_count": 290,
   "id": "653b61a9",
   "metadata": {},
   "outputs": [
    {
     "name": "stdout",
     "output_type": "stream",
     "text": [
      "<class 'pandas.core.frame.DataFrame'>\n",
      "RangeIndex: 89 entries, 0 to 88\n",
      "Data columns (total 9 columns):\n",
      " #   Column          Non-Null Count  Dtype  \n",
      "---  ------          --------------  -----  \n",
      " 0   name            89 non-null     object \n",
      " 1   type            89 non-null     object \n",
      " 2   length_km       89 non-null     float64\n",
      " 3   duration_hour   89 non-null     float64\n",
      " 4   difficulty      89 non-null     object \n",
      " 5   region          89 non-null     object \n",
      " 6   type_of_view    89 non-null     object \n",
      " 7   rating          68 non-null     object \n",
      " 8   elevation_gain  72 non-null     object \n",
      "dtypes: float64(2), object(7)\n",
      "memory usage: 6.4+ KB\n"
     ]
    }
   ],
   "source": [
    "data.info()"
   ]
  },
  {
   "cell_type": "code",
   "execution_count": 291,
   "id": "8ada45be",
   "metadata": {},
   "outputs": [
    {
     "data": {
      "text/plain": [
       "count           72\n",
       "unique          71\n",
       "top       1,833 ft\n",
       "freq             2\n",
       "Name: elevation_gain, dtype: object"
      ]
     },
     "execution_count": 291,
     "metadata": {},
     "output_type": "execute_result"
    }
   ],
   "source": [
    "data['elevation_gain'].describe()"
   ]
  },
  {
   "cell_type": "code",
   "execution_count": 292,
   "id": "1e869325",
   "metadata": {},
   "outputs": [],
   "source": [
    "#Extract the numeric value, convert meters to feet if necessary\n",
    "import re #Regular expression => search for and extract patterns\n",
    "\n",
    "\n",
    "def extract_elevation(text):\n",
    "    if pd.isna(text) or not isinstance(text, str): #if text is null value or text is not string => return NaN\n",
    "        return pd.NA\n",
    "    # Match feet\n",
    "    match_ft = re.search(r'(\\d{1,3}(?:,\\d{3})*(?:\\.\\d+)?)\\s*ft', text)\n",
    "    # Search for a pattern representing elevation in feet:\n",
    "        # \\d{1,3}: Matches 1 to 3 digits(e.g, '123' or '12')\n",
    "        # (?:,\\d{3})*: Matches zero or more groups of a comma followed by 3 digits (e.g., \",000\")\n",
    "        # (?:\\.\\d+)?: Matches the decimal places, \"?\" makes it optional\n",
    "        # \\s*: Matches 0 or more white space\n",
    "        # \"ft\": Matches ft\n",
    "    if match_ft:\n",
    "        return float(match_ft.group(1).replace(',', ''))\n",
    "        # Captures the number, remoes the commas from the number string (e.g, 1,234 to 1234) and converts it to float\n",
    "\n",
    "    # Match meters\n",
    "    match_m = re.search(r'(\\d{1,3}(?:,\\d{3})*(?:\\.\\d+)?)\\s*m(?:eters)?', text)\n",
    "        # Same logic as above \n",
    "\n",
    "    if match_m:\n",
    "        return float(match_m.group(1).replace(',', '')) * 3.28084\n",
    "        # Same logic as above \n",
    "    return pd.NA\n",
    "        # If neither the feet nor meters pattern is matched, returns pd.NA to indicate no valid elevation was found.\n",
    "\n",
    "data['elevation_gain'] = data['elevation_gain'].apply(extract_elevation)"
   ]
  },
  {
   "cell_type": "code",
   "execution_count": 293,
   "id": "cdb12e10",
   "metadata": {},
   "outputs": [
    {
     "name": "stdout",
     "output_type": "stream",
     "text": [
      "<class 'pandas.core.series.Series'>\n",
      "RangeIndex: 89 entries, 0 to 88\n",
      "Series name: elevation_gain\n",
      "Non-Null Count  Dtype \n",
      "--------------  ----- \n",
      "72 non-null     object\n",
      "dtypes: object(1)\n",
      "memory usage: 844.0+ bytes\n"
     ]
    }
   ],
   "source": [
    "data['elevation_gain'].info()"
   ]
  },
  {
   "cell_type": "code",
   "execution_count": 294,
   "id": "168cd17d",
   "metadata": {},
   "outputs": [
    {
     "data": {
      "text/plain": [
       "0          1250.0\n",
       "1          2168.0\n",
       "2          1994.0\n",
       "3          2805.0\n",
       "4          1791.0\n",
       "5           679.0\n",
       "6          1971.0\n",
       "7          2047.0\n",
       "8           439.0\n",
       "9          1213.0\n",
       "10          515.0\n",
       "11      1017.0604\n",
       "12      1607.6116\n",
       "13         2395.0\n",
       "14         1204.0\n",
       "15    1623.465187\n",
       "16          741.0\n",
       "17          485.0\n",
       "18         1833.0\n",
       "19         1414.0\n",
       "20          885.0\n",
       "21          295.0\n",
       "22          275.0\n",
       "23         1893.0\n",
       "24         1131.0\n",
       "25         1833.0\n",
       "26      2099.7376\n",
       "27         1433.0\n",
       "28         2286.0\n",
       "29          259.0\n",
       "30          426.0\n",
       "31         1571.0\n",
       "32          685.0\n",
       "33          944.0\n",
       "34          505.0\n",
       "35          767.0\n",
       "36         1233.0\n",
       "37          551.0\n",
       "38          288.0\n",
       "39          413.0\n",
       "40         1381.0\n",
       "41          797.0\n",
       "42    1623.465187\n",
       "43          990.0\n",
       "44     1217.19164\n",
       "45      1410.7612\n",
       "46    1623.465187\n",
       "47    1623.465187\n",
       "48          951.0\n",
       "49           95.0\n",
       "50          521.0\n",
       "51       131.2336\n",
       "52    1623.465187\n",
       "53    1623.465187\n",
       "54       26.24672\n",
       "55    1623.465187\n",
       "56          209.9\n",
       "57    1623.465187\n",
       "58       59.05512\n",
       "59    1623.465187\n",
       "60           55.0\n",
       "61           16.0\n",
       "62          183.0\n",
       "63    1623.465187\n",
       "64    1623.465187\n",
       "65    1623.465187\n",
       "66         1558.0\n",
       "67    1623.465187\n",
       "68         1282.0\n",
       "69          820.0\n",
       "70    1623.465187\n",
       "71         1243.0\n",
       "72          866.0\n",
       "73          557.0\n",
       "74      1279.5276\n",
       "75       426.5092\n",
       "76        32.8084\n",
       "77        98.4252\n",
       "78        98.4252\n",
       "79         1463.0\n",
       "80    1623.465187\n",
       "81    1623.465187\n",
       "82         1729.0\n",
       "83    1623.465187\n",
       "84          180.0\n",
       "85        16571.0\n",
       "86         5524.0\n",
       "87        10036.0\n",
       "88        17740.0\n",
       "Name: elevation_gain, dtype: Float64"
      ]
     },
     "execution_count": 294,
     "metadata": {},
     "output_type": "execute_result"
    }
   ],
   "source": [
    "data['elevation_gain'] = data['elevation_gain'].astype('Float64')\n",
    "data['elevation_gain'] = data['elevation_gain'].fillna(data['elevation_gain'].mean())\n",
    "data['elevation_gain']"
   ]
  },
  {
   "cell_type": "code",
   "execution_count": 295,
   "id": "069c525d",
   "metadata": {},
   "outputs": [
    {
     "name": "stdout",
     "output_type": "stream",
     "text": [
      "<class 'pandas.core.frame.DataFrame'>\n",
      "RangeIndex: 89 entries, 0 to 88\n",
      "Data columns (total 9 columns):\n",
      " #   Column          Non-Null Count  Dtype  \n",
      "---  ------          --------------  -----  \n",
      " 0   name            89 non-null     object \n",
      " 1   type            89 non-null     object \n",
      " 2   length_km       89 non-null     float64\n",
      " 3   duration_hour   89 non-null     float64\n",
      " 4   difficulty      89 non-null     object \n",
      " 5   region          89 non-null     object \n",
      " 6   type_of_view    89 non-null     object \n",
      " 7   rating          68 non-null     object \n",
      " 8   elevation_gain  89 non-null     Float64\n",
      "dtypes: Float64(1), float64(2), object(6)\n",
      "memory usage: 6.5+ KB\n"
     ]
    }
   ],
   "source": [
    "data.info()"
   ]
  },
  {
   "cell_type": "code",
   "execution_count": 296,
   "id": "c602aa00",
   "metadata": {},
   "outputs": [
    {
     "name": "stdout",
     "output_type": "stream",
     "text": [
      "<class 'pandas.core.series.Series'>\n",
      "RangeIndex: 89 entries, 0 to 88\n",
      "Series name: rating\n",
      "Non-Null Count  Dtype \n",
      "--------------  ----- \n",
      "68 non-null     object\n",
      "dtypes: object(1)\n",
      "memory usage: 844.0+ bytes\n"
     ]
    }
   ],
   "source": [
    "data['rating'].info()"
   ]
  },
  {
   "cell_type": "code",
   "execution_count": 297,
   "id": "5bfe4848",
   "metadata": {},
   "outputs": [],
   "source": [
    "#Extract the numeric value, convert meters to feet if necessary\n",
    "import re #Regular expression => search for and extract patterns\n",
    "\n",
    "\n",
    "def extract_elevation(text):\n",
    "    if pd.isna(text) or not isinstance(text, str): #if text is null value or text is not string => return NaN\n",
    "        return pd.NA\n",
    "    # Match feet\n",
    "    match_ft = re.search(r'(\\d{1,3}(?:,\\d{3})*(?:\\.\\d+)?)\\s*/5', text)\n",
    "    # Search for a pattern representing elevation in feet:\n",
    "        # \\d{1,3}: Matches 1 to 3 digits(e.g, '123' or '12')\n",
    "        # (?:,\\d{3})*: Matches zero or more groups of a comma followed by 3 digits (e.g., \",000\")\n",
    "        # (?:\\.\\d+)?: Matches the decimal places, \"?\" makes it optional\n",
    "        # \\s*: Matches 0 or more white space\n",
    "        # \"ft\": Matches ft\n",
    "    if match_ft:\n",
    "        return float(match_ft.group(1).replace(',', ''))\n",
    "        # Captures the number, remoes the commas from the number string (e.g, 1,234 to 1234) and converts it to float\n",
    "\n",
    "    \n",
    "    return pd.NA\n",
    "        # If neither the feet nor meters pattern is matched, returns pd.NA to indicate no valid elevation was found.\n",
    "\n",
    "data['rating'] = data['rating'].apply(extract_elevation)"
   ]
  },
  {
   "cell_type": "code",
   "execution_count": 298,
   "id": "18a8ff96",
   "metadata": {},
   "outputs": [
    {
     "name": "stdout",
     "output_type": "stream",
     "text": [
      "<class 'pandas.core.series.Series'>\n",
      "RangeIndex: 89 entries, 0 to 88\n",
      "Series name: rating\n",
      "Non-Null Count  Dtype \n",
      "--------------  ----- \n",
      "65 non-null     object\n",
      "dtypes: object(1)\n",
      "memory usage: 844.0+ bytes\n"
     ]
    }
   ],
   "source": [
    "data['rating'].info()"
   ]
  },
  {
   "cell_type": "code",
   "execution_count": 299,
   "id": "ca431eeb",
   "metadata": {},
   "outputs": [
    {
     "data": {
      "text/plain": [
       "0          4.5\n",
       "1          4.7\n",
       "2          4.5\n",
       "3          4.5\n",
       "4          4.5\n",
       "5          4.2\n",
       "6          4.5\n",
       "7          4.6\n",
       "8          4.1\n",
       "9          4.1\n",
       "10         4.5\n",
       "11    4.270769\n",
       "12         4.4\n",
       "13         4.2\n",
       "14         4.4\n",
       "15    4.270769\n",
       "16         4.6\n",
       "17         3.6\n",
       "18         4.6\n",
       "19         4.3\n",
       "20         4.5\n",
       "21         4.2\n",
       "22         4.0\n",
       "23         4.6\n",
       "24         4.3\n",
       "25         4.3\n",
       "26         4.1\n",
       "27         4.2\n",
       "28         4.6\n",
       "29         3.8\n",
       "30         4.4\n",
       "31         4.5\n",
       "32    4.270769\n",
       "33         4.0\n",
       "34         3.9\n",
       "35         4.2\n",
       "36         4.4\n",
       "37         4.3\n",
       "38         4.5\n",
       "39         3.9\n",
       "40         4.4\n",
       "41         4.5\n",
       "42    4.270769\n",
       "43         4.3\n",
       "44         4.6\n",
       "45    4.270769\n",
       "46    4.270769\n",
       "47         3.7\n",
       "48         3.9\n",
       "49         4.4\n",
       "50         3.6\n",
       "51    4.270769\n",
       "52    4.270769\n",
       "53         3.0\n",
       "54    4.270769\n",
       "55    4.270769\n",
       "56    4.270769\n",
       "57    4.270769\n",
       "58         4.6\n",
       "59    4.270769\n",
       "60         3.9\n",
       "61         4.0\n",
       "62         4.0\n",
       "63         4.0\n",
       "64    4.270769\n",
       "65    4.270769\n",
       "66         4.4\n",
       "67    4.270769\n",
       "68         4.1\n",
       "69         4.3\n",
       "70         4.5\n",
       "71         4.4\n",
       "72         4.4\n",
       "73         4.7\n",
       "74    4.270769\n",
       "75         4.4\n",
       "76    4.270769\n",
       "77    4.270769\n",
       "78    4.270769\n",
       "79         3.6\n",
       "80    4.270769\n",
       "81    4.270769\n",
       "82         4.7\n",
       "83    4.270769\n",
       "84         4.4\n",
       "85         4.3\n",
       "86         4.6\n",
       "87         4.4\n",
       "88    4.270769\n",
       "Name: rating, dtype: Float64"
      ]
     },
     "execution_count": 299,
     "metadata": {},
     "output_type": "execute_result"
    }
   ],
   "source": [
    "data['rating'] = data['rating'].astype('Float64')\n",
    "data['rating'] = data['rating'].fillna(data['rating'].mean())\n",
    "data['rating']"
   ]
  },
  {
   "cell_type": "code",
   "execution_count": 300,
   "id": "3549b88e",
   "metadata": {},
   "outputs": [
    {
     "name": "stdout",
     "output_type": "stream",
     "text": [
      "<class 'pandas.core.frame.DataFrame'>\n",
      "RangeIndex: 89 entries, 0 to 88\n",
      "Data columns (total 9 columns):\n",
      " #   Column          Non-Null Count  Dtype  \n",
      "---  ------          --------------  -----  \n",
      " 0   name            89 non-null     object \n",
      " 1   type            89 non-null     object \n",
      " 2   length_km       89 non-null     float64\n",
      " 3   duration_hour   89 non-null     float64\n",
      " 4   difficulty      89 non-null     object \n",
      " 5   region          89 non-null     object \n",
      " 6   type_of_view    89 non-null     object \n",
      " 7   rating          89 non-null     Float64\n",
      " 8   elevation_gain  89 non-null     Float64\n",
      "dtypes: Float64(2), float64(2), object(5)\n",
      "memory usage: 6.6+ KB\n"
     ]
    }
   ],
   "source": [
    "data.info()"
   ]
  },
  {
   "cell_type": "code",
   "execution_count": 301,
   "id": "66a80043",
   "metadata": {},
   "outputs": [],
   "source": [
    "data_processed = data.to_csv('data_processed.csv')"
   ]
  }
 ],
 "metadata": {
  "kernelspec": {
   "display_name": "base",
   "language": "python",
   "name": "python3"
  },
  "language_info": {
   "codemirror_mode": {
    "name": "ipython",
    "version": 3
   },
   "file_extension": ".py",
   "mimetype": "text/x-python",
   "name": "python",
   "nbconvert_exporter": "python",
   "pygments_lexer": "ipython3",
   "version": "3.13.5"
  }
 },
 "nbformat": 4,
 "nbformat_minor": 5
}
