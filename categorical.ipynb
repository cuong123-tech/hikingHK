{
 "cells": [
  {
   "cell_type": "code",
   "execution_count": 176,
   "id": "2743bbd3",
   "metadata": {},
   "outputs": [],
   "source": [
    "import numpy as np\n",
    "import pandas as pd\n",
    "import matplotlib.pyplot as plt\n",
    "import seaborn as sns"
   ]
  },
  {
   "cell_type": "code",
   "execution_count": 177,
   "id": "7ed89f2d",
   "metadata": {},
   "outputs": [],
   "source": [
    "original_data = pd.read_csv('data_processed.csv')"
   ]
  },
  {
   "cell_type": "code",
   "execution_count": 178,
   "id": "851be2b2",
   "metadata": {},
   "outputs": [],
   "source": [
    "data = original_data.copy()"
   ]
  },
  {
   "cell_type": "code",
   "execution_count": 179,
   "id": "a83604b9",
   "metadata": {},
   "outputs": [
    {
     "data": {
      "text/html": [
       "<div>\n",
       "<style scoped>\n",
       "    .dataframe tbody tr th:only-of-type {\n",
       "        vertical-align: middle;\n",
       "    }\n",
       "\n",
       "    .dataframe tbody tr th {\n",
       "        vertical-align: top;\n",
       "    }\n",
       "\n",
       "    .dataframe thead th {\n",
       "        text-align: right;\n",
       "    }\n",
       "</style>\n",
       "<table border=\"1\" class=\"dataframe\">\n",
       "  <thead>\n",
       "    <tr style=\"text-align: right;\">\n",
       "      <th></th>\n",
       "      <th>name</th>\n",
       "      <th>type</th>\n",
       "      <th>length_km</th>\n",
       "      <th>duration_hour</th>\n",
       "      <th>difficulty</th>\n",
       "      <th>region</th>\n",
       "      <th>type_of_view</th>\n",
       "      <th>rating</th>\n",
       "      <th>elevation_gain</th>\n",
       "    </tr>\n",
       "  </thead>\n",
       "  <tbody>\n",
       "    <tr>\n",
       "      <th>0</th>\n",
       "      <td>MacLehose Trail (Section 1) Pak Tam Chung to L...</td>\n",
       "      <td>Long-distance Trail</td>\n",
       "      <td>10.600000</td>\n",
       "      <td>3.000000</td>\n",
       "      <td>Hard</td>\n",
       "      <td>Sai Kung</td>\n",
       "      <td>beach, lake</td>\n",
       "      <td>4.500000</td>\n",
       "      <td>1250.0</td>\n",
       "    </tr>\n",
       "    <tr>\n",
       "      <th>1</th>\n",
       "      <td>MacLehose Trail (Section 2) Long Ke to Pak Tam Au</td>\n",
       "      <td>Long-distance Trail</td>\n",
       "      <td>13.500000</td>\n",
       "      <td>5.000000</td>\n",
       "      <td>Hard</td>\n",
       "      <td>Sai Kung</td>\n",
       "      <td>beauty of the coast of Hong Kong, Sai Wan beac...</td>\n",
       "      <td>4.700000</td>\n",
       "      <td>2168.0</td>\n",
       "    </tr>\n",
       "    <tr>\n",
       "      <th>2</th>\n",
       "      <td>MacLehose Trail (Section 3) Pak Tam Au to Kei ...</td>\n",
       "      <td>Long-distance Trail</td>\n",
       "      <td>10.200000</td>\n",
       "      <td>4.000000</td>\n",
       "      <td>Hard</td>\n",
       "      <td>Sai Kung</td>\n",
       "      <td>forests, views</td>\n",
       "      <td>4.500000</td>\n",
       "      <td>1994.0</td>\n",
       "    </tr>\n",
       "    <tr>\n",
       "      <th>3</th>\n",
       "      <td>MacLehose Trail (Section 4) Kei Ling Ha to Tat...</td>\n",
       "      <td>Long-distance Trail</td>\n",
       "      <td>12.700000</td>\n",
       "      <td>5.000000</td>\n",
       "      <td>Hard</td>\n",
       "      <td>Sai Kung</td>\n",
       "      <td>views, wildflowers</td>\n",
       "      <td>4.500000</td>\n",
       "      <td>2805.0</td>\n",
       "    </tr>\n",
       "    <tr>\n",
       "      <th>4</th>\n",
       "      <td>MacLehose Trail (Section 5) Tate's Cairn to Ta...</td>\n",
       "      <td>Long-distance Trail</td>\n",
       "      <td>10.600000</td>\n",
       "      <td>4.500000</td>\n",
       "      <td>Hard</td>\n",
       "      <td>Central New Territories</td>\n",
       "      <td>forests and views</td>\n",
       "      <td>4.500000</td>\n",
       "      <td>1791.0</td>\n",
       "    </tr>\n",
       "    <tr>\n",
       "      <th>...</th>\n",
       "      <td>...</td>\n",
       "      <td>...</td>\n",
       "      <td>...</td>\n",
       "      <td>...</td>\n",
       "      <td>...</td>\n",
       "      <td>...</td>\n",
       "      <td>...</td>\n",
       "      <td>...</td>\n",
       "      <td>...</td>\n",
       "    </tr>\n",
       "    <tr>\n",
       "      <th>84</th>\n",
       "      <td>Hong Kong Trail (Section 6) Mount Parker Road ...</td>\n",
       "      <td>Hon g Kong Trail</td>\n",
       "      <td>9.242632</td>\n",
       "      <td>2.385429</td>\n",
       "      <td>Moderate</td>\n",
       "      <td>Hong Kong Island</td>\n",
       "      <td>Tai Tam Reservoir</td>\n",
       "      <td>4.400000</td>\n",
       "      <td>180.0</td>\n",
       "    </tr>\n",
       "    <tr>\n",
       "      <th>85</th>\n",
       "      <td>MacLehose Trail overall</td>\n",
       "      <td>Long-distance Trail</td>\n",
       "      <td>100.000000</td>\n",
       "      <td>2.385429</td>\n",
       "      <td>Hard</td>\n",
       "      <td>New Territories</td>\n",
       "      <td>beaches, mountains</td>\n",
       "      <td>4.300000</td>\n",
       "      <td>16571.0</td>\n",
       "    </tr>\n",
       "    <tr>\n",
       "      <th>86</th>\n",
       "      <td>Hong Kong Trail overall</td>\n",
       "      <td>Long-distance Trail</td>\n",
       "      <td>50.000000</td>\n",
       "      <td>2.385429</td>\n",
       "      <td>Moderate</td>\n",
       "      <td>Hong Kong Island</td>\n",
       "      <td>Views and tourist attractions</td>\n",
       "      <td>4.600000</td>\n",
       "      <td>5524.0</td>\n",
       "    </tr>\n",
       "    <tr>\n",
       "      <th>87</th>\n",
       "      <td>Lantau Trail overall</td>\n",
       "      <td>Long-distance Trail</td>\n",
       "      <td>70.000000</td>\n",
       "      <td>2.385429</td>\n",
       "      <td>Moderate</td>\n",
       "      <td>Lantau</td>\n",
       "      <td>mountain peaks, traditional villages, coastal ...</td>\n",
       "      <td>4.400000</td>\n",
       "      <td>10036.0</td>\n",
       "    </tr>\n",
       "    <tr>\n",
       "      <th>88</th>\n",
       "      <td>Wilson Trail overall</td>\n",
       "      <td>Long-distance Trail</td>\n",
       "      <td>78.000000</td>\n",
       "      <td>2.385429</td>\n",
       "      <td>Hard</td>\n",
       "      <td>Hong Kong Island / New Territories</td>\n",
       "      <td>Tai Tam, Quarry Bay, Ma On Shan, Lion Rock, Ka...</td>\n",
       "      <td>4.270769</td>\n",
       "      <td>17740.0</td>\n",
       "    </tr>\n",
       "  </tbody>\n",
       "</table>\n",
       "<p>89 rows × 9 columns</p>\n",
       "</div>"
      ],
      "text/plain": [
       "                                                 name                 type  \\\n",
       "0   MacLehose Trail (Section 1) Pak Tam Chung to L...  Long-distance Trail   \n",
       "1   MacLehose Trail (Section 2) Long Ke to Pak Tam Au  Long-distance Trail   \n",
       "2   MacLehose Trail (Section 3) Pak Tam Au to Kei ...  Long-distance Trail   \n",
       "3   MacLehose Trail (Section 4) Kei Ling Ha to Tat...  Long-distance Trail   \n",
       "4   MacLehose Trail (Section 5) Tate's Cairn to Ta...  Long-distance Trail   \n",
       "..                                                ...                  ...   \n",
       "84  Hong Kong Trail (Section 6) Mount Parker Road ...     Hon g Kong Trail   \n",
       "85                            MacLehose Trail overall  Long-distance Trail   \n",
       "86                            Hong Kong Trail overall  Long-distance Trail   \n",
       "87                               Lantau Trail overall  Long-distance Trail   \n",
       "88                               Wilson Trail overall  Long-distance Trail   \n",
       "\n",
       "     length_km  duration_hour difficulty                              region  \\\n",
       "0    10.600000       3.000000       Hard                            Sai Kung   \n",
       "1    13.500000       5.000000       Hard                            Sai Kung   \n",
       "2    10.200000       4.000000       Hard                            Sai Kung   \n",
       "3    12.700000       5.000000       Hard                            Sai Kung   \n",
       "4    10.600000       4.500000       Hard             Central New Territories   \n",
       "..         ...            ...        ...                                 ...   \n",
       "84    9.242632       2.385429   Moderate                    Hong Kong Island   \n",
       "85  100.000000       2.385429       Hard                     New Territories   \n",
       "86   50.000000       2.385429   Moderate                    Hong Kong Island   \n",
       "87   70.000000       2.385429   Moderate                              Lantau   \n",
       "88   78.000000       2.385429       Hard  Hong Kong Island / New Territories   \n",
       "\n",
       "                                         type_of_view    rating  \\\n",
       "0                                         beach, lake  4.500000   \n",
       "1   beauty of the coast of Hong Kong, Sai Wan beac...  4.700000   \n",
       "2                                      forests, views  4.500000   \n",
       "3                                  views, wildflowers  4.500000   \n",
       "4                                   forests and views  4.500000   \n",
       "..                                                ...       ...   \n",
       "84                                  Tai Tam Reservoir  4.400000   \n",
       "85                                 beaches, mountains  4.300000   \n",
       "86                      Views and tourist attractions  4.600000   \n",
       "87  mountain peaks, traditional villages, coastal ...  4.400000   \n",
       "88  Tai Tam, Quarry Bay, Ma On Shan, Lion Rock, Ka...  4.270769   \n",
       "\n",
       "    elevation_gain  \n",
       "0           1250.0  \n",
       "1           2168.0  \n",
       "2           1994.0  \n",
       "3           2805.0  \n",
       "4           1791.0  \n",
       "..             ...  \n",
       "84           180.0  \n",
       "85         16571.0  \n",
       "86          5524.0  \n",
       "87         10036.0  \n",
       "88         17740.0  \n",
       "\n",
       "[89 rows x 9 columns]"
      ]
     },
     "execution_count": 179,
     "metadata": {},
     "output_type": "execute_result"
    }
   ],
   "source": [
    "data"
   ]
  },
  {
   "cell_type": "code",
   "execution_count": 180,
   "id": "d10b43ab",
   "metadata": {},
   "outputs": [
    {
     "data": {
      "text/plain": [
       "array([ 6,  6,  6,  6,  6,  6,  6,  6,  6,  6,  4,  4,  4,  4,  4,  4,  4,\n",
       "        5,  5,  5,  5,  5,  5, 10, 10, 10, 10, 10, 10, 10,  0,  0,  0,  0,\n",
       "        0,  0,  0,  0,  0,  0,  0,  0,  0,  0,  0,  0,  7,  7,  7,  7,  7,\n",
       "        7,  7,  9,  9,  9,  1,  1,  1,  1,  2,  2,  2,  2,  8,  8,  8,  8,\n",
       "        0,  0,  0,  0,  8,  4,  8,  1,  9,  9,  9,  0,  8,  8,  8,  8,  3,\n",
       "        6,  6,  6,  6])"
      ]
     },
     "execution_count": 180,
     "metadata": {},
     "output_type": "execute_result"
    }
   ],
   "source": [
    "#There is only one data point of group 3?\n",
    "from sklearn.preprocessing import LabelEncoder\n",
    "encoder = LabelEncoder()\n",
    "type = data['type']\n",
    "type_encoded = encoder.fit_transform(type)\n",
    "type_encoded"
   ]
  },
  {
   "cell_type": "code",
   "execution_count": 181,
   "id": "b3d11c07",
   "metadata": {},
   "outputs": [
    {
     "data": {
      "text/plain": [
       "'Hon g Kong Trail'"
      ]
     },
     "execution_count": 181,
     "metadata": {},
     "output_type": "execute_result"
    }
   ],
   "source": [
    "type.tolist()[-5]"
   ]
  },
  {
   "cell_type": "code",
   "execution_count": 182,
   "id": "c82ece66",
   "metadata": {},
   "outputs": [
    {
     "data": {
      "text/plain": [
       "array(['Country Trail', 'Family Walk', 'Geo Route', 'Hon g Kong Trail',\n",
       "       'Hong Kong Trail', 'Lantau Trail', 'Long-distance Trail',\n",
       "       'Nature Trail', 'Recommended Route', 'Tree Walk', 'Wilson Trail'],\n",
       "      dtype=object)"
      ]
     },
     "execution_count": 182,
     "metadata": {},
     "output_type": "execute_result"
    }
   ],
   "source": [
    "encoder.classes_"
   ]
  },
  {
   "cell_type": "code",
   "execution_count": 183,
   "id": "052d65f3",
   "metadata": {},
   "outputs": [],
   "source": [
    "# Using loc (label-based indexing)\n",
    "data.loc[84, 'type'] = 'Hong Kong Trail'"
   ]
  },
  {
   "cell_type": "code",
   "execution_count": 184,
   "id": "f51a457a",
   "metadata": {},
   "outputs": [
    {
     "data": {
      "text/html": [
       "<div>\n",
       "<style scoped>\n",
       "    .dataframe tbody tr th:only-of-type {\n",
       "        vertical-align: middle;\n",
       "    }\n",
       "\n",
       "    .dataframe tbody tr th {\n",
       "        vertical-align: top;\n",
       "    }\n",
       "\n",
       "    .dataframe thead th {\n",
       "        text-align: right;\n",
       "    }\n",
       "</style>\n",
       "<table border=\"1\" class=\"dataframe\">\n",
       "  <thead>\n",
       "    <tr style=\"text-align: right;\">\n",
       "      <th></th>\n",
       "      <th>name</th>\n",
       "      <th>type</th>\n",
       "      <th>length_km</th>\n",
       "      <th>duration_hour</th>\n",
       "      <th>difficulty</th>\n",
       "      <th>region</th>\n",
       "      <th>type_of_view</th>\n",
       "      <th>rating</th>\n",
       "      <th>elevation_gain</th>\n",
       "    </tr>\n",
       "  </thead>\n",
       "  <tbody>\n",
       "    <tr>\n",
       "      <th>0</th>\n",
       "      <td>MacLehose Trail (Section 1) Pak Tam Chung to L...</td>\n",
       "      <td>Long-distance Trail</td>\n",
       "      <td>10.600000</td>\n",
       "      <td>3.000000</td>\n",
       "      <td>Hard</td>\n",
       "      <td>Sai Kung</td>\n",
       "      <td>beach, lake</td>\n",
       "      <td>4.500000</td>\n",
       "      <td>1250.0</td>\n",
       "    </tr>\n",
       "    <tr>\n",
       "      <th>1</th>\n",
       "      <td>MacLehose Trail (Section 2) Long Ke to Pak Tam Au</td>\n",
       "      <td>Long-distance Trail</td>\n",
       "      <td>13.500000</td>\n",
       "      <td>5.000000</td>\n",
       "      <td>Hard</td>\n",
       "      <td>Sai Kung</td>\n",
       "      <td>beauty of the coast of Hong Kong, Sai Wan beac...</td>\n",
       "      <td>4.700000</td>\n",
       "      <td>2168.0</td>\n",
       "    </tr>\n",
       "    <tr>\n",
       "      <th>2</th>\n",
       "      <td>MacLehose Trail (Section 3) Pak Tam Au to Kei ...</td>\n",
       "      <td>Long-distance Trail</td>\n",
       "      <td>10.200000</td>\n",
       "      <td>4.000000</td>\n",
       "      <td>Hard</td>\n",
       "      <td>Sai Kung</td>\n",
       "      <td>forests, views</td>\n",
       "      <td>4.500000</td>\n",
       "      <td>1994.0</td>\n",
       "    </tr>\n",
       "    <tr>\n",
       "      <th>3</th>\n",
       "      <td>MacLehose Trail (Section 4) Kei Ling Ha to Tat...</td>\n",
       "      <td>Long-distance Trail</td>\n",
       "      <td>12.700000</td>\n",
       "      <td>5.000000</td>\n",
       "      <td>Hard</td>\n",
       "      <td>Sai Kung</td>\n",
       "      <td>views, wildflowers</td>\n",
       "      <td>4.500000</td>\n",
       "      <td>2805.0</td>\n",
       "    </tr>\n",
       "    <tr>\n",
       "      <th>4</th>\n",
       "      <td>MacLehose Trail (Section 5) Tate's Cairn to Ta...</td>\n",
       "      <td>Long-distance Trail</td>\n",
       "      <td>10.600000</td>\n",
       "      <td>4.500000</td>\n",
       "      <td>Hard</td>\n",
       "      <td>Central New Territories</td>\n",
       "      <td>forests and views</td>\n",
       "      <td>4.500000</td>\n",
       "      <td>1791.0</td>\n",
       "    </tr>\n",
       "    <tr>\n",
       "      <th>...</th>\n",
       "      <td>...</td>\n",
       "      <td>...</td>\n",
       "      <td>...</td>\n",
       "      <td>...</td>\n",
       "      <td>...</td>\n",
       "      <td>...</td>\n",
       "      <td>...</td>\n",
       "      <td>...</td>\n",
       "      <td>...</td>\n",
       "    </tr>\n",
       "    <tr>\n",
       "      <th>84</th>\n",
       "      <td>Hong Kong Trail (Section 6) Mount Parker Road ...</td>\n",
       "      <td>Hong Kong Trail</td>\n",
       "      <td>9.242632</td>\n",
       "      <td>2.385429</td>\n",
       "      <td>Moderate</td>\n",
       "      <td>Hong Kong Island</td>\n",
       "      <td>Tai Tam Reservoir</td>\n",
       "      <td>4.400000</td>\n",
       "      <td>180.0</td>\n",
       "    </tr>\n",
       "    <tr>\n",
       "      <th>85</th>\n",
       "      <td>MacLehose Trail overall</td>\n",
       "      <td>Long-distance Trail</td>\n",
       "      <td>100.000000</td>\n",
       "      <td>2.385429</td>\n",
       "      <td>Hard</td>\n",
       "      <td>New Territories</td>\n",
       "      <td>beaches, mountains</td>\n",
       "      <td>4.300000</td>\n",
       "      <td>16571.0</td>\n",
       "    </tr>\n",
       "    <tr>\n",
       "      <th>86</th>\n",
       "      <td>Hong Kong Trail overall</td>\n",
       "      <td>Long-distance Trail</td>\n",
       "      <td>50.000000</td>\n",
       "      <td>2.385429</td>\n",
       "      <td>Moderate</td>\n",
       "      <td>Hong Kong Island</td>\n",
       "      <td>Views and tourist attractions</td>\n",
       "      <td>4.600000</td>\n",
       "      <td>5524.0</td>\n",
       "    </tr>\n",
       "    <tr>\n",
       "      <th>87</th>\n",
       "      <td>Lantau Trail overall</td>\n",
       "      <td>Long-distance Trail</td>\n",
       "      <td>70.000000</td>\n",
       "      <td>2.385429</td>\n",
       "      <td>Moderate</td>\n",
       "      <td>Lantau</td>\n",
       "      <td>mountain peaks, traditional villages, coastal ...</td>\n",
       "      <td>4.400000</td>\n",
       "      <td>10036.0</td>\n",
       "    </tr>\n",
       "    <tr>\n",
       "      <th>88</th>\n",
       "      <td>Wilson Trail overall</td>\n",
       "      <td>Long-distance Trail</td>\n",
       "      <td>78.000000</td>\n",
       "      <td>2.385429</td>\n",
       "      <td>Hard</td>\n",
       "      <td>Hong Kong Island / New Territories</td>\n",
       "      <td>Tai Tam, Quarry Bay, Ma On Shan, Lion Rock, Ka...</td>\n",
       "      <td>4.270769</td>\n",
       "      <td>17740.0</td>\n",
       "    </tr>\n",
       "  </tbody>\n",
       "</table>\n",
       "<p>89 rows × 9 columns</p>\n",
       "</div>"
      ],
      "text/plain": [
       "                                                 name                 type  \\\n",
       "0   MacLehose Trail (Section 1) Pak Tam Chung to L...  Long-distance Trail   \n",
       "1   MacLehose Trail (Section 2) Long Ke to Pak Tam Au  Long-distance Trail   \n",
       "2   MacLehose Trail (Section 3) Pak Tam Au to Kei ...  Long-distance Trail   \n",
       "3   MacLehose Trail (Section 4) Kei Ling Ha to Tat...  Long-distance Trail   \n",
       "4   MacLehose Trail (Section 5) Tate's Cairn to Ta...  Long-distance Trail   \n",
       "..                                                ...                  ...   \n",
       "84  Hong Kong Trail (Section 6) Mount Parker Road ...      Hong Kong Trail   \n",
       "85                            MacLehose Trail overall  Long-distance Trail   \n",
       "86                            Hong Kong Trail overall  Long-distance Trail   \n",
       "87                               Lantau Trail overall  Long-distance Trail   \n",
       "88                               Wilson Trail overall  Long-distance Trail   \n",
       "\n",
       "     length_km  duration_hour difficulty                              region  \\\n",
       "0    10.600000       3.000000       Hard                            Sai Kung   \n",
       "1    13.500000       5.000000       Hard                            Sai Kung   \n",
       "2    10.200000       4.000000       Hard                            Sai Kung   \n",
       "3    12.700000       5.000000       Hard                            Sai Kung   \n",
       "4    10.600000       4.500000       Hard             Central New Territories   \n",
       "..         ...            ...        ...                                 ...   \n",
       "84    9.242632       2.385429   Moderate                    Hong Kong Island   \n",
       "85  100.000000       2.385429       Hard                     New Territories   \n",
       "86   50.000000       2.385429   Moderate                    Hong Kong Island   \n",
       "87   70.000000       2.385429   Moderate                              Lantau   \n",
       "88   78.000000       2.385429       Hard  Hong Kong Island / New Territories   \n",
       "\n",
       "                                         type_of_view    rating  \\\n",
       "0                                         beach, lake  4.500000   \n",
       "1   beauty of the coast of Hong Kong, Sai Wan beac...  4.700000   \n",
       "2                                      forests, views  4.500000   \n",
       "3                                  views, wildflowers  4.500000   \n",
       "4                                   forests and views  4.500000   \n",
       "..                                                ...       ...   \n",
       "84                                  Tai Tam Reservoir  4.400000   \n",
       "85                                 beaches, mountains  4.300000   \n",
       "86                      Views and tourist attractions  4.600000   \n",
       "87  mountain peaks, traditional villages, coastal ...  4.400000   \n",
       "88  Tai Tam, Quarry Bay, Ma On Shan, Lion Rock, Ka...  4.270769   \n",
       "\n",
       "    elevation_gain  \n",
       "0           1250.0  \n",
       "1           2168.0  \n",
       "2           1994.0  \n",
       "3           2805.0  \n",
       "4           1791.0  \n",
       "..             ...  \n",
       "84           180.0  \n",
       "85         16571.0  \n",
       "86          5524.0  \n",
       "87         10036.0  \n",
       "88         17740.0  \n",
       "\n",
       "[89 rows x 9 columns]"
      ]
     },
     "execution_count": 184,
     "metadata": {},
     "output_type": "execute_result"
    }
   ],
   "source": [
    "data"
   ]
  },
  {
   "cell_type": "code",
   "execution_count": 185,
   "id": "ab4a69ba",
   "metadata": {},
   "outputs": [
    {
     "data": {
      "text/plain": [
       "array([5, 5, 5, 5, 5, 5, 5, 5, 5, 5, 3, 3, 3, 3, 3, 3, 3, 4, 4, 4, 4, 4,\n",
       "       4, 9, 9, 9, 9, 9, 9, 9, 0, 0, 0, 0, 0, 0, 0, 0, 0, 0, 0, 0, 0, 0,\n",
       "       0, 0, 6, 6, 6, 6, 6, 6, 6, 8, 8, 8, 1, 1, 1, 1, 2, 2, 2, 2, 7, 7,\n",
       "       7, 7, 0, 0, 0, 0, 7, 3, 7, 1, 8, 8, 8, 0, 7, 7, 7, 7, 3, 5, 5, 5,\n",
       "       5])"
      ]
     },
     "execution_count": 185,
     "metadata": {},
     "output_type": "execute_result"
    }
   ],
   "source": [
    "type_encoded = encoder.fit_transform(type)\n",
    "type_encoded"
   ]
  },
  {
   "cell_type": "code",
   "execution_count": 202,
   "id": "7bdfda38",
   "metadata": {},
   "outputs": [
    {
     "data": {
      "text/plain": [
       "0     Long-distance Trail\n",
       "1     Long-distance Trail\n",
       "2     Long-distance Trail\n",
       "3     Long-distance Trail\n",
       "4     Long-distance Trail\n",
       "             ...         \n",
       "84        Hong Kong Trail\n",
       "85    Long-distance Trail\n",
       "86    Long-distance Trail\n",
       "87    Long-distance Trail\n",
       "88    Long-distance Trail\n",
       "Name: type, Length: 89, dtype: object"
      ]
     },
     "execution_count": 202,
     "metadata": {},
     "output_type": "execute_result"
    }
   ],
   "source": [
    "type"
   ]
  },
  {
   "cell_type": "code",
   "execution_count": 188,
   "id": "32d5f17d",
   "metadata": {},
   "outputs": [
    {
     "name": "stdout",
     "output_type": "stream",
     "text": [
      "['Country Trail' 'Family Walk' 'Geo Route' 'Hong Kong Trail'\n",
      " 'Lantau Trail' 'Long-distance Trail' 'Nature Trail' 'Recommended Route'\n",
      " 'Tree Walk' 'Wilson Trail']\n"
     ]
    }
   ],
   "source": [
    "print(encoder.classes_)"
   ]
  },
  {
   "cell_type": "code",
   "execution_count": 203,
   "id": "5feb71ab",
   "metadata": {},
   "outputs": [
    {
     "data": {
      "text/plain": [
       "<Compressed Sparse Row sparse matrix of dtype 'float64'\n",
       "\twith 89 stored elements and shape (89, 10)>"
      ]
     },
     "execution_count": 203,
     "metadata": {},
     "output_type": "execute_result"
    }
   ],
   "source": [
    "from sklearn.preprocessing import OneHotEncoder\n",
    "encoder = OneHotEncoder()\n",
    "type_1hot = encoder.fit_transform(data[['type']])\n",
    "type_1hot"
   ]
  },
  {
   "cell_type": "code",
   "execution_count": 189,
   "id": "e58f6cd0",
   "metadata": {},
   "outputs": [
    {
     "data": {
      "text/plain": [
       "'\\nlabel/one-hot?/binary for categorical features\\nTest TF-IDF, BoW, and Word embeddings for type_of_view, evaluate with K-means using Silhouette Score, select TF-IDF if best.\\nProcess type, region (one-hot encoding), difficulty (Label Encoding), normalize with StandardScaler.\\nUse best type to test K-means, DBSCAN, GMM, Hierarchical Clustering; compare Silhouette Scores + interpretability <=> comparable table? -> explain\\nVisualize best clusters with scatter plot (PCA) and word cloud.\\nDocument: Describe experiments, comparison table, explain cluster meanings (trail recommendations).'"
      ]
     },
     "execution_count": 189,
     "metadata": {},
     "output_type": "execute_result"
    }
   ],
   "source": [
    "\n",
    "'''\n",
    "label/one-hot?/binary for categorical features\n",
    "Test TF-IDF, BoW, and Word embeddings for type_of_view, evaluate with K-means using Silhouette Score, select TF-IDF if best.\n",
    "Process type, region (one-hot encoding), difficulty (Label Encoding), normalize with StandardScaler.\n",
    "Use best type to test K-means, DBSCAN, GMM, Hierarchical Clustering; compare Silhouette Scores + interpretability <=> comparable table? -> explain\n",
    "Visualize best clusters with scatter plot (PCA) and word cloud.\n",
    "Document: Describe experiments, comparison table, explain cluster meanings (trail recommendations).'''"
   ]
  }
 ],
 "metadata": {
  "kernelspec": {
   "display_name": "base",
   "language": "python",
   "name": "python3"
  },
  "language_info": {
   "codemirror_mode": {
    "name": "ipython",
    "version": 3
   },
   "file_extension": ".py",
   "mimetype": "text/x-python",
   "name": "python",
   "nbconvert_exporter": "python",
   "pygments_lexer": "ipython3",
   "version": "3.13.5"
  }
 },
 "nbformat": 4,
 "nbformat_minor": 5
}
